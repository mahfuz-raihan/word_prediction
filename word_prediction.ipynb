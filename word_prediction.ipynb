{
 "cells": [
  {
   "cell_type": "code",
   "execution_count": 1,
   "metadata": {},
   "outputs": [],
   "source": [
    "%%capture\n",
    "import re # to handle regular expression\n",
    "import demoji  # for emojis handle\n",
    "import random # to generate random number\n",
    "import inflect  # to handle number to words\n",
    "import numpy as np # scitific calculation \n",
    "import pandas as pd # data manipulation \n",
    "from bs4 import BeautifulSoup # handle html tag\n",
    "import matplotlib.pyplot as plt # plot any display\n",
    "\n",
    "import torch # deep learning handle\n",
    "import torchtext # nlp handle\n",
    "import torch.nn as nn # NN handle\n",
    "import torch.optim as optim # optimizer handle\n",
    "import torch.nn.functional as F # all type to DL funciton\n",
    "from torch.nn.functional import one_hot # encoder-decoder\n",
    "from torchtext.data.utils import get_tokenizer # tokenize \n",
    "print('Successfully import all the libraries')"
   ]
  },
  {
   "cell_type": "code",
   "execution_count": 2,
   "metadata": {},
   "outputs": [],
   "source": [
    "# Reading the text \n",
    "file_path = 'human_chat.txt'\n",
    "with open(file_path,\"r\") as f:\n",
    "    lines = f.readlines()"
   ]
  },
  {
   "cell_type": "code",
   "execution_count": 3,
   "metadata": {},
   "outputs": [
    {
     "data": {
      "text/plain": [
       "str"
      ]
     },
     "execution_count": 3,
     "metadata": {},
     "output_type": "execute_result"
    }
   ],
   "source": [
    "type(lines[1])"
   ]
  },
  {
   "cell_type": "code",
   "execution_count": 4,
   "metadata": {},
   "outputs": [],
   "source": [
    "soup = BeautifulSoup(str(lines), 'html.parser')\n",
    "text = soup.get_text()"
   ]
  },
  {
   "cell_type": "code",
   "execution_count": 5,
   "metadata": {},
   "outputs": [],
   "source": [
    "def preprocess_text(text):\n",
    "        # Remove HTML tags\n",
    "        soup = BeautifulSoup(text, 'html.parser')\n",
    "        text = soup.get_text()\n",
    "\n",
    "        p = inflect.engine() #101\n",
    "        # demoji.download_codes()\n",
    "        # Remove emojis\n",
    "        text = demoji.replace(text, \"\")\n",
    "\n",
    "        # Remove mentions of \"Human 1\" and \"Human 2\"\n",
    "        text = re.sub(r'\\b(?:Human 1|Human 2)\\b:?', \" \", text)\n",
    "\n",
    "        # Replace numbers with words\n",
    "        text = re.sub(r'\\b\\d+\\b', lambda x: p.number_to_words(x.group()), text)\n",
    "\n",
    "        # Remove special characters, keeping only alphabetic and spaces\n",
    "        text = re.sub('[^a-zA-Z\\s]', ' ', text)\n",
    "\n",
    "        # Replace specific unicode spaces with standard spaces and trim\n",
    "        text = text.replace(u'\\xa0', u' ').replace('\\u200a', ' ').strip()\n",
    "\n",
    "        return text"
   ]
  },
  {
   "cell_type": "code",
   "execution_count": 6,
   "metadata": {},
   "outputs": [
    {
     "name": "stderr",
     "output_type": "stream",
     "text": [
      "/tmp/ipykernel_6081/3061531194.py:3: MarkupResemblesLocatorWarning: The input looks more like a filename than markup. You may want to open this file and pass the filehandle into Beautiful Soup.\n",
      "  soup = BeautifulSoup(text, 'html.parser')\n"
     ]
    }
   ],
   "source": [
    "preprocessed_lines = [preprocess_text(line) for line in lines]"
   ]
  },
  {
   "cell_type": "code",
   "execution_count": 7,
   "metadata": {},
   "outputs": [
    {
     "data": {
      "text/plain": [
       "['Hi',\n",
       " 'What is your favorite holiday',\n",
       " 'one where I get to meet lots of different people',\n",
       " 'What was the most number of people you have ever met during a holiday',\n",
       " 'Hard to keep a count  Maybe twenty five']"
      ]
     },
     "execution_count": 7,
     "metadata": {},
     "output_type": "execute_result"
    }
   ],
   "source": [
    "preprocessed_lines[0:5]"
   ]
  },
  {
   "cell_type": "code",
   "execution_count": 8,
   "metadata": {},
   "outputs": [],
   "source": [
    "# Tokenize the words\n",
    "tokenizer = get_tokenizer('basic_english')\n",
    "tokenized_conv = [tokenizer(conv) for conv in preprocessed_lines]"
   ]
  },
  {
   "cell_type": "code",
   "execution_count": 9,
   "metadata": {},
   "outputs": [
    {
     "data": {
      "text/plain": [
       "['one', 'where', 'i', 'get', 'to', 'meet', 'lots', 'of', 'different', 'people']"
      ]
     },
     "execution_count": 9,
     "metadata": {},
     "output_type": "execute_result"
    }
   ],
   "source": [
    "tokenized_conv[2]"
   ]
  },
  {
   "cell_type": "code",
   "execution_count": 10,
   "metadata": {},
   "outputs": [
    {
     "data": {
      "text/plain": [
       "['what',\n",
       " 'was',\n",
       " 'the',\n",
       " 'most',\n",
       " 'number',\n",
       " 'of',\n",
       " 'people',\n",
       " 'you',\n",
       " 'have',\n",
       " 'ever',\n",
       " 'met',\n",
       " 'during',\n",
       " 'a',\n",
       " 'holiday']"
      ]
     },
     "execution_count": 10,
     "metadata": {},
     "output_type": "execute_result"
    }
   ],
   "source": [
    "tokenized_conv[3]"
   ]
  },
  {
   "cell_type": "code",
   "execution_count": 11,
   "metadata": {},
   "outputs": [
    {
     "data": {
      "text/plain": [
       "['what', 'is', 'your', 'favorite', 'holiday']"
      ]
     },
     "execution_count": 11,
     "metadata": {},
     "output_type": "execute_result"
    }
   ],
   "source": [
    "tokenized_conv[1]"
   ]
  },
  {
   "cell_type": "markdown",
   "metadata": {},
   "source": [
    "## ```build_vocab_from_iterator```\n",
    "\n",
    "```build_vocab_from_iterator``` function in the ```torchtext.vocab``` modeule is used to create vocabulary from an iterable of tokenized data. This vocabulary is essential for converting textual data into numerical form.\n",
    "\n",
    "## Parameters:\n",
    "\n",
    "### ```tokenized_conv(iterator)```:\n",
    "This is the main data input to the function. It should be an iterator(like a ```generator``` or a ```list```) that yields sequences to tokens. Each sequences represents a document or an example in your dataset.\n",
    "\n",
    "### ```min_freq(int,optional):```\n",
    "This parameter specifics the mimimum frequency a token must have to be inclued in the vocabulary. Tokens that appear fewer than ```min_freq``` times are excluded form the vocabulary. This is useful for removing rare words which might be typos or irrelevant to most analysis.\n",
    "\n",
    "### ```specials(list of str, optional)```:\n",
    "This is a list of special tokens that you want to add to the vocabulary. Common special tokens include: A padding token used to equalize the lenghts of sequence.(or for unknown): A token used to represent out-of-vocabulary words during inference, or when a word appears that is not int the traning vocabualry. \n",
    "\n",
    "### ```special_first(bool, optional)```:\n",
    "Determine the ordering of special tokens in the vocabulary. If ```True```, special tokens are added at the beginning of the vocabulary. This can be helpful for certain models where token indices are significant(e.g., models using embadding layers might have specific handling for lower indices.)"
   ]
  },
  {
   "cell_type": "code",
   "execution_count": 12,
   "metadata": {},
   "outputs": [],
   "source": [
    "features_vocab = torchtext.vocab.build_vocab_from_iterator(\n",
    "    tokenized_conv,\n",
    "    min_freq=1,\n",
    "    specials=['<pad>', '<oov>'],\n",
    "    special_first=True\n",
    ")\n",
    "target_vocab = torchtext.vocab.build_vocab_from_iterator(\n",
    "    tokenized_conv,\n",
    "    min_freq=1\n",
    ")"
   ]
  },
  {
   "cell_type": "code",
   "execution_count": 13,
   "metadata": {},
   "outputs": [
    {
     "name": "stdout",
     "output_type": "stream",
     "text": [
      "Features Vocab Length: 2749\n",
      "Features Vocab Length: 2747\n"
     ]
    }
   ],
   "source": [
    "features_vocab_total_words = len(features_vocab)\n",
    "target_vocab_toal_words = len(target_vocab)\n",
    "print(\"Features Vocab Length:\", features_vocab_total_words)\n",
    "print(\"Features Vocab Length:\", target_vocab_toal_words)"
   ]
  },
  {
   "cell_type": "code",
   "execution_count": 14,
   "metadata": {},
   "outputs": [],
   "source": [
    "# making ngrams from the conversations\n",
    "def make_ngrams(tokenized_text):\n",
    "    list_ngrams = []\n",
    "    for i in range(1, len(tokenized_text)):\n",
    "        ngram_sequence = tokenized_text[:i+1]\n",
    "        list_ngrams.append(ngram_sequence)\n",
    "    return list_ngrams"
   ]
  },
  {
   "cell_type": "code",
   "execution_count": 15,
   "metadata": {},
   "outputs": [],
   "source": [
    "ngrams_list = []\n",
    "for tokenized_con in tokenized_conv:\n",
    "    ngrams_list.extend(make_ngrams(tokenized_con))"
   ]
  },
  {
   "cell_type": "code",
   "execution_count": 16,
   "metadata": {},
   "outputs": [
    {
     "data": {
      "text/plain": [
       "[['what', 'is', 'your'],\n",
       " ['what', 'is', 'your', 'favorite'],\n",
       " ['what', 'is', 'your', 'favorite', 'holiday'],\n",
       " ['one', 'where'],\n",
       " ['one', 'where', 'i'],\n",
       " ['one', 'where', 'i', 'get'],\n",
       " ['one', 'where', 'i', 'get', 'to'],\n",
       " ['one', 'where', 'i', 'get', 'to', 'meet'],\n",
       " ['one', 'where', 'i', 'get', 'to', 'meet', 'lots']]"
      ]
     },
     "execution_count": 16,
     "metadata": {},
     "output_type": "execute_result"
    }
   ],
   "source": [
    "ngrams_list[1:10]"
   ]
  },
  {
   "cell_type": "code",
   "execution_count": 17,
   "metadata": {},
   "outputs": [],
   "source": [
    "# add random oov takens to let the model handle oov tokens \n",
    "def add_random_oov_tokens(ngram_oov):\n",
    "    for idx, word in enumerate(ngram_oov[:-1]):\n",
    "        if random.uniform(0,1) < 0.1:\n",
    "            ngram_oov[idx] = '<oov>'\n",
    "    return ngram_oov"
   ]
  },
  {
   "cell_type": "code",
   "execution_count": 18,
   "metadata": {},
   "outputs": [
    {
     "name": "stdout",
     "output_type": "stream",
     "text": [
      "True\n"
     ]
    }
   ],
   "source": [
    "ngrams_list_oov = []\n",
    "for ngram in ngrams_list:\n",
    "    ngrams_list_oov.append(add_random_oov_tokens(ngram_oov=ngram))\n",
    "print(any('<oov>' in ngram for ngram in ngrams_list_oov))"
   ]
  },
  {
   "cell_type": "code",
   "execution_count": 19,
   "metadata": {},
   "outputs": [
    {
     "data": {
      "text/plain": [
       "[['what', '<oov>', 'your'],\n",
       " ['what', 'is', 'your', 'favorite'],\n",
       " ['<oov>', 'is', '<oov>', 'favorite', 'holiday'],\n",
       " ['one', 'where'],\n",
       " ['one', 'where', 'i'],\n",
       " ['one', 'where', 'i', 'get'],\n",
       " ['one', 'where', 'i', 'get', 'to'],\n",
       " ['one', 'where', 'i', '<oov>', 'to', 'meet'],\n",
       " ['one', 'where', 'i', 'get', 'to', 'meet', 'lots']]"
      ]
     },
     "execution_count": 19,
     "metadata": {},
     "output_type": "execute_result"
    }
   ],
   "source": [
    "ngrams_list_oov[1:10]"
   ]
  },
  {
   "cell_type": "markdown",
   "metadata": {},
   "source": [
    "#### Text to numeric form"
   ]
  },
  {
   "cell_type": "code",
   "execution_count": 20,
   "metadata": {},
   "outputs": [],
   "source": [
    "def text_to_numerical_sequence(tokenized_text):\n",
    "    tokens_list = []\n",
    "    if tokenized_text[-1] in target_vocab.get_itos():\n",
    "        for token in tokenized_text[:-1]:\n",
    "            num_token = features_vocab[token] if token in features_vocab.get_itos() else features_vocab['<oov>']\n",
    "            tokens_list.append(num_token)\n",
    "        num_token = target_vocab[tokenized_text[-1]]\n",
    "        tokens_list.append(num_token)\n",
    "        return tokens_list\n",
    "    return None"
   ]
  },
  {
   "cell_type": "code",
   "execution_count": 21,
   "metadata": {},
   "outputs": [],
   "source": [
    "input_sequence = [text_to_numerical_sequence(sequence) for sequence in ngrams_list_oov if text_to_numerical_sequence(sequence)]"
   ]
  },
  {
   "cell_type": "code",
   "execution_count": 22,
   "metadata": {},
   "outputs": [
    {
     "name": "stdout",
     "output_type": "stream",
     "text": [
      "Total input sequence: 18562\n",
      "[[1, 13, 1, 120, 312], [56, 88]]\n"
     ]
    }
   ],
   "source": [
    "print(f\"Total input sequence: {len(input_sequence)}\")\n",
    "print(input_sequence[3:5])"
   ]
  },
  {
   "cell_type": "code",
   "execution_count": 23,
   "metadata": {},
   "outputs": [
    {
     "data": {
      "text/plain": [
       "(1, 11)"
      ]
     },
     "execution_count": 23,
     "metadata": {},
     "output_type": "execute_result"
    }
   ],
   "source": [
    "X = [sequence[:-1] for sequence in input_sequence]\n",
    "y = [sequence[-1] for sequence in input_sequence]\n",
    "len(X[0]), y[0]"
   ]
  },
  {
   "cell_type": "code",
   "execution_count": 24,
   "metadata": {},
   "outputs": [
    {
     "name": "stdout",
     "output_type": "stream",
     "text": [
      "[1, 13, 1, 120] 312\n"
     ]
    }
   ],
   "source": [
    "print(X[3], y[3])"
   ]
  },
  {
   "cell_type": "code",
   "execution_count": 25,
   "metadata": {},
   "outputs": [
    {
     "data": {
      "text/plain": [
       "153"
      ]
     },
     "execution_count": 25,
     "metadata": {},
     "output_type": "execute_result"
    }
   ],
   "source": [
    "longest_sequence_feature = max(len(sequence) for sequence in X)\n",
    "longest_sequence_feature"
   ]
  },
  {
   "cell_type": "markdown",
   "metadata": {},
   "source": [
    "The tensor to be padded."
   ]
  },
  {
   "cell_type": "code",
   "execution_count": 26,
   "metadata": {},
   "outputs": [
    {
     "data": {
      "text/plain": [
       "(tensor([ 0,  0,  0,  0,  0,  0,  0,  0,  0,  0,  0,  0,  0,  0,  0,  0,  0,  0,\n",
       "          0,  0,  0,  0,  0,  0,  0,  0,  0,  0,  0,  0,  0,  0,  0,  0,  0,  0,\n",
       "          0,  0,  0,  0,  0,  0,  0,  0,  0,  0,  0,  0,  0,  0,  0,  0,  0,  0,\n",
       "          0,  0,  0,  0,  0,  0,  0,  0,  0,  0,  0,  0,  0,  0,  0,  0,  0,  0,\n",
       "          0,  0,  0,  0,  0,  0,  0,  0,  0,  0,  0,  0,  0,  0,  0,  0,  0,  0,\n",
       "          0,  0,  0,  0,  0,  0,  0,  0,  0,  0,  0,  0,  0,  0,  0,  0,  0,  0,\n",
       "          0,  0,  0,  0,  0,  0,  0,  0,  0,  0,  0,  0,  0,  0,  0,  0,  0,  0,\n",
       "          0,  0,  0,  0,  0,  0,  0,  0,  0,  0,  0,  0,  0,  0,  0,  0,  0,  0,\n",
       "          0,  0,  0,  0,  0,  0,  0, 12,  1]),\n",
       " [12, 13, 29],\n",
       " 153)"
      ]
     },
     "execution_count": 26,
     "metadata": {},
     "output_type": "execute_result"
    }
   ],
   "source": [
    "padded_X = [F.pad(torch.tensor(sequence), (longest_sequence_feature - len(sequence),0), value=0) for sequence in X]\n",
    "padded_X[1], X[2], len(padded_X[1])"
   ]
  },
  {
   "cell_type": "code",
   "execution_count": 27,
   "metadata": {},
   "outputs": [
    {
     "data": {
      "text/plain": [
       "(torch.Tensor, torch.Tensor)"
      ]
     },
     "execution_count": 27,
     "metadata": {},
     "output_type": "execute_result"
    }
   ],
   "source": [
    "padded_X = torch.stack(padded_X)\n",
    "y = torch.tensor(y)\n",
    "type(y), type(padded_X)"
   ]
  },
  {
   "cell_type": "code",
   "execution_count": 28,
   "metadata": {},
   "outputs": [],
   "source": [
    "y_one_hot = one_hot(y, num_classes=target_vocab_toal_words)"
   ]
  },
  {
   "cell_type": "code",
   "execution_count": 29,
   "metadata": {},
   "outputs": [],
   "source": [
    "from torch.utils.data import TensorDataset\n",
    "data = TensorDataset(padded_X, y_one_hot)"
   ]
  },
  {
   "cell_type": "code",
   "execution_count": 30,
   "metadata": {},
   "outputs": [
    {
     "data": {
      "text/plain": [
       "(tensor([], size=(0, 153), dtype=torch.int64),\n",
       " tensor([], size=(0, 2747), dtype=torch.int64))"
      ]
     },
     "execution_count": 30,
     "metadata": {},
     "output_type": "execute_result"
    }
   ],
   "source": [
    "data[1:1]"
   ]
  },
  {
   "cell_type": "code",
   "execution_count": 31,
   "metadata": {},
   "outputs": [],
   "source": [
    "train_size = int(0.8 * len(data))\n",
    "test_size = len(data) - train_size\n",
    "batch_size = 32"
   ]
  },
  {
   "cell_type": "code",
   "execution_count": 33,
   "metadata": {},
   "outputs": [],
   "source": [
    "from torch.utils.data import random_split\n",
    "train_data, test_data = random_split(data, [train_size, test_size])"
   ]
  },
  {
   "cell_type": "code",
   "execution_count": 34,
   "metadata": {},
   "outputs": [],
   "source": [
    "from torch.utils.data import DataLoader\n",
    "train_loader = DataLoader(train_data, batch_size=batch_size, shuffle=True)\n",
    "test_loader = DataLoader(test_data, batch_size=batch_size, shuffle=False)"
   ]
  },
  {
   "cell_type": "code",
   "execution_count": 41,
   "metadata": {},
   "outputs": [],
   "source": [
    "import torch.nn as nn\n",
    "class My_BiLSTM(nn.Module):\n",
    "    def __init__(self, features_vocab_total_words, target_vocab_toal_words, embedding_dim, hidden_dim):\n",
    "        super(My_BiLSTM, self).__init__()\n",
    "        self.embadding = nn.Embedding(features_vocab_total_words, embedding_dim)\n",
    "        self.lstm = nn.LSTM(embedding_dim, hidden_dim, batch_first=True, bidirectional=True)\n",
    "        self.dropout = nn.Dropout(0.5)\n",
    "        self.fc = nn.Linear(hidden_dim * 2, target_vocab_toal_words)\n",
    "    \n",
    "\n",
    "\n",
    "    def forward(self, x):\n",
    "        x = x.to(self.embadding.weight.device)\n",
    "        embadded = self.embadding(x)\n",
    "        lstm_out, _ = self.lstm(embadded)\n",
    "        lstm_out = self.dropout(lstm_out)\n",
    "        # since the LSTM is bidirectional, we calculate the last hidden state of the forward direction\n",
    "        # and the first hidden state of the backward direction before passing it to the fully connected layer\n",
    "        # For the batch_first = True, the last timestamp of the forward direction is lstm_out[:, -1, :hidden_dim]\n",
    "        # and the first timestamp of the backward direction is lstm_out[:, 0, hidden_dim:]\n",
    "        output = self.fc(torch.cat((lstm_out[:,-1, :hidden_dim], lstm_out[:, 0, hidden_dim:]), dim=1))\n",
    "        return output"
   ]
  },
  {
   "cell_type": "code",
   "execution_count": 39,
   "metadata": {},
   "outputs": [],
   "source": [
    "features_vocab_total_words = 2749\n",
    "target_vocab_toal_words = 2749\n",
    "embadding_dim = 128\n",
    "hidden_dim = 200\n",
    "epochs = 50"
   ]
  },
  {
   "cell_type": "code",
   "execution_count": 42,
   "metadata": {},
   "outputs": [],
   "source": [
    "model = My_BiLSTM(features_vocab_total_words, target_vocab_toal_words, embedding_dim=embadding_dim, hidden_dim=hidden_dim)"
   ]
  },
  {
   "cell_type": "code",
   "execution_count": 44,
   "metadata": {},
   "outputs": [
    {
     "data": {
      "text/plain": [
       "device(type='cuda')"
      ]
     },
     "execution_count": 44,
     "metadata": {},
     "output_type": "execute_result"
    }
   ],
   "source": [
    "criterion = nn.CrossEntropyLoss()\n",
    "optimizer = optim.Adam(model.parameters(), lr = 0.0009)\n",
    "\n",
    "# define the device \n",
    "device = torch.device('cuda' if torch.cuda.is_available() else 'cpu')\n",
    "device"
   ]
  },
  {
   "cell_type": "code",
   "execution_count": 45,
   "metadata": {},
   "outputs": [
    {
     "data": {
      "text/plain": [
       "My_BiLSTM(\n",
       "  (embadding): Embedding(2749, 128)\n",
       "  (lstm): LSTM(128, 200, batch_first=True, bidirectional=True)\n",
       "  (dropout): Dropout(p=0.5, inplace=False)\n",
       "  (fc): Linear(in_features=400, out_features=2749, bias=True)\n",
       ")"
      ]
     },
     "execution_count": 45,
     "metadata": {},
     "output_type": "execute_result"
    }
   ],
   "source": [
    "model.to(device=device)"
   ]
  },
  {
   "cell_type": "code",
   "execution_count": 48,
   "metadata": {},
   "outputs": [],
   "source": [
    "def calculate_topk_accuracey(model, data_loader, k=3):\n",
    "    model.eval()\n",
    "    correct_prediction = 0\n",
    "    total_prediction = 0\n",
    "\n",
    "    with torch.no_grad():\n",
    "        for batch_x, batch_y, in data_loader:\n",
    "            batch_x, batch_y = batch_x.to(device),batch_y.to(device)\n",
    "\n",
    "            # forward pass\n",
    "            output = model(batch_x)\n",
    "\n",
    "            # Get top-K prediction\n",
    "            _, predicted_indices = output.topk(k, dim=1)\n",
    "\n",
    "            # Check if the correct label is in the top-k prediction\n",
    "            correct_prediction += torch.any(predicted_indices == torch.argmax(batch_y, dim=1, keepdim=True), dim=1).sum().item()\n",
    "            total_prediction += batch_y.size(0)\n",
    "        accuracy = correct_prediction / total_prediction\n",
    "        return accuracy    "
   ]
  },
  {
   "cell_type": "code",
   "execution_count": 49,
   "metadata": {},
   "outputs": [
    {
     "name": "stdout",
     "output_type": "stream",
     "text": [
      "Epoch 0/50 | Loss: 2.9431 | Train K-Accuracy: 24.84%\n",
      "Epoch 5/50 | Loss: 4.9344 | Train K-Accuracy: 56.19%\n",
      "Epoch 10/50 | Loss: 2.6106 | Train K-Accuracy: 83.65%\n",
      "Epoch 15/50 | Loss: 4.6400 | Train K-Accuracy: 92.16%\n",
      "Epoch 20/50 | Loss: 0.9576 | Train K-Accuracy: 94.60%\n",
      "Epoch 25/50 | Loss: 1.2850 | Train K-Accuracy: 95.43%\n",
      "Epoch 30/50 | Loss: 0.2250 | Train K-Accuracy: 95.70%\n",
      "Epoch 35/50 | Loss: 1.0486 | Train K-Accuracy: 95.82%\n",
      "Epoch 40/50 | Loss: 0.1404 | Train K-Accuracy: 95.91%\n",
      "Epoch 45/50 | Loss: 0.6597 | Train K-Accuracy: 95.98%\n"
     ]
    }
   ],
   "source": [
    "all_accuracies = []\n",
    "all_losses = []\n",
    "\n",
    "for epoch in range(epochs):\n",
    "    model.train()\n",
    "    for batch_X, batch_y in train_loader:\n",
    "        batch_X, batch_y = batch_X.to(device),batch_y.to(device)\n",
    "        optimizer.zero_grad()\n",
    "        output = model(batch_X)\n",
    "\n",
    "        # loss\n",
    "        loss = criterion(output, batch_y.argmax(dim=1))\n",
    "        loss.backward()\n",
    "        optimizer.step()\n",
    "\n",
    "    if epoch % 5 == 0:\n",
    "        accuracy = calculate_topk_accuracey(model, train_loader)\n",
    "        print(f'Epoch {epoch}/{epochs} | Loss: {loss.item():.4f} | Train K-Accuracy: {accuracy * 100:.2f}%')\n",
    "        all_accuracies.append(accuracy)\n",
    "        all_losses.append(loss.item())"
   ]
  },
  {
   "cell_type": "code",
   "execution_count": 57,
   "metadata": {},
   "outputs": [
    {
     "data": {
      "image/png": "[encoded data removed]",
      "text/plain": [
       "<Figure size 800x400 with 2 Axes>"
      ]
     },
     "metadata": {},
     "output_type": "display_data"
    }
   ],
   "source": [
    "epoch_x = [i for i in range(1, epochs, 5)]\n",
    "\n",
    "fig, axes = plt.subplots(nrows=1, ncols=2, figsize=(8, 4))\n",
    "\n",
    "axes[0].plot(epoch_x, all_accuracies, color='#5a7da9', label='Accuracy', linewidth=3)\n",
    "axes[0].set_xlabel('Epochs')\n",
    "axes[0].set_ylabel('Accuracy')\n",
    "axes[0].set_title('Accuracy Graph')\n",
    "axes[0].grid(True)\n",
    "\n",
    "axes[1].plot(epoch_x, all_losses, color='#FFFFFF', label='Accuracy', linewidth=3)\n",
    "axes[1].set_xlabel('Epochs')\n",
    "axes[1].set_ylabel('Loss')\n",
    "axes[1].set_title('Loss Graph')\n",
    "axes[1].grid(True)\n",
    "\n",
    "plt.tight_layout()\n",
    "plt.show()"
   ]
  },
  {
   "cell_type": "code",
   "execution_count": 81,
   "metadata": {},
   "outputs": [
    {
     "name": "stdout",
     "output_type": "stream",
     "text": [
      "Test K-Accuracy: 20.93\n"
     ]
    }
   ],
   "source": [
    "accuracy = calculate_topk_accuracey(model=model, data_loader=test_loader)\n",
    "print(f\"Test K-Accuracy: {accuracy * 100:.2f}\")"
   ]
  },
  {
   "cell_type": "code",
   "execution_count": 89,
   "metadata": {},
   "outputs": [
    {
     "name": "stdout",
     "output_type": "stream",
     "text": [
      "my_bilstm_model.pth\n"
     ]
    }
   ],
   "source": [
    "import os\n",
    "model_path = 'my_bilstm_model.pth'\n",
    "torch.save(model.state_dict(), model_path)\n",
    "print(f'{model_path}')"
   ]
  },
  {
   "cell_type": "code",
   "execution_count": 94,
   "metadata": {},
   "outputs": [
    {
     "name": "stdout",
     "output_type": "stream",
     "text": [
      "Model saved to my_bilstm_model.pth\n"
     ]
    }
   ],
   "source": [
    "model_path = 'my_bilstm_model.pth'\n",
    "torch.save(model, model_path)\n",
    "print(f'Model saved to {model_path}')"
   ]
  },
  {
   "cell_type": "code",
   "execution_count": 90,
   "metadata": {},
   "outputs": [],
   "source": [
    "class BiLSTM(nn.Module):\n",
    "    def __init__(self, features_vocab_total_words, target_vocab_total_words, embedding_dim, hidden_dim):\n",
    "        super(BiLSTM, self).__init__()\n",
    "        self.embedding = nn.Embedding(features_vocab_total_words, embedding_dim)\n",
    "        self.lstm = nn.LSTM(embedding_dim, hidden_dim, batch_first=True, bidirectional=True)\n",
    "        self.dropout = nn.Dropout(0.5)\n",
    "        self.fc = nn.Linear(hidden_dim * 2, target_vocab_total_words)\n",
    "\n",
    "    def forward(self, x):\n",
    "        x = x.to(self.embedding.weight.device)\n",
    "        embedded = self.embedding(x)\n",
    "        lstm_out, _ = self.lstm(embedded)\n",
    "        lstm_out = self.dropout(lstm_out)\n",
    "        # Since the LSTM is bidirectional, we concatenate the last hidden state of the forward direction\n",
    "        # and the first hidden state of the backward direction before passing it to the fully connected layer\n",
    "        # For batch_first=True, the last timestep of the forward direction is lstm_out[:, -1, :hidden_dim]\n",
    "        # and the first timestep of the backward direction is lstm_out[:, 0, hidden_dim:]\n",
    "        output = self.fc(torch.cat((lstm_out[:, -1, :hidden_dim], lstm_out[:, 0, hidden_dim:]), dim=1))\n",
    "        return output"
   ]
  },
  {
   "cell_type": "code",
   "execution_count": 91,
   "metadata": {},
   "outputs": [],
   "source": [
    "features_vocab_total_words = 2749\n",
    "target_vocab_total_words = 2747\n",
    "embedding_dim = 128\n",
    "hidden_dim = 200\n",
    "saved_model = BiLSTM(features_vocab_total_words, target_vocab_total_words, embedding_dim, hidden_dim)"
   ]
  },
  {
   "cell_type": "code",
   "execution_count": 95,
   "metadata": {},
   "outputs": [
    {
     "ename": "TypeError",
     "evalue": "Expected state_dict to be dict-like, got <class '__main__.My_BiLSTM'>.",
     "output_type": "error",
     "traceback": [
      "\u001b[0;31m---------------------------------------------------------------------------\u001b[0m",
      "\u001b[0;31mTypeError\u001b[0m                                 Traceback (most recent call last)",
      "Cell \u001b[0;32mIn[95], line 2\u001b[0m\n\u001b[1;32m      1\u001b[0m model_path \u001b[38;5;241m=\u001b[39m \u001b[38;5;124m'\u001b[39m\u001b[38;5;124mmy_bilstm_model.pth\u001b[39m\u001b[38;5;124m'\u001b[39m\n\u001b[0;32m----> 2\u001b[0m \u001b[43msaved_model\u001b[49m\u001b[38;5;241;43m.\u001b[39;49m\u001b[43mload_state_dict\u001b[49m\u001b[43m(\u001b[49m\u001b[43mtorch\u001b[49m\u001b[38;5;241;43m.\u001b[39;49m\u001b[43mload\u001b[49m\u001b[43m(\u001b[49m\u001b[43mmodel_path\u001b[49m\u001b[43m)\u001b[49m\u001b[43m)\u001b[49m\n",
      "File \u001b[0;32m~/anaconda3/envs/nlp/lib/python3.11/site-packages/torch/nn/modules/module.py:2103\u001b[0m, in \u001b[0;36mModule.load_state_dict\u001b[0;34m(self, state_dict, strict, assign)\u001b[0m\n\u001b[1;32m   2069\u001b[0m \u001b[38;5;250m\u001b[39m\u001b[38;5;124mr\u001b[39m\u001b[38;5;124;03m\"\"\"Copies parameters and buffers from :attr:`state_dict` into\u001b[39;00m\n\u001b[1;32m   2070\u001b[0m \u001b[38;5;124;03mthis module and its descendants. If :attr:`strict` is ``True``, then\u001b[39;00m\n\u001b[1;32m   2071\u001b[0m \u001b[38;5;124;03mthe keys of :attr:`state_dict` must exactly match the keys returned\u001b[39;00m\n\u001b[0;32m   (...)\u001b[0m\n\u001b[1;32m   2100\u001b[0m \u001b[38;5;124;03m    ``RuntimeError``.\u001b[39;00m\n\u001b[1;32m   2101\u001b[0m \u001b[38;5;124;03m\"\"\"\u001b[39;00m\n\u001b[1;32m   2102\u001b[0m \u001b[38;5;28;01mif\u001b[39;00m \u001b[38;5;129;01mnot\u001b[39;00m \u001b[38;5;28misinstance\u001b[39m(state_dict, Mapping):\n\u001b[0;32m-> 2103\u001b[0m     \u001b[38;5;28;01mraise\u001b[39;00m \u001b[38;5;167;01mTypeError\u001b[39;00m(\u001b[38;5;124mf\u001b[39m\u001b[38;5;124m\"\u001b[39m\u001b[38;5;124mExpected state_dict to be dict-like, got \u001b[39m\u001b[38;5;132;01m{\u001b[39;00m\u001b[38;5;28mtype\u001b[39m(state_dict)\u001b[38;5;132;01m}\u001b[39;00m\u001b[38;5;124m.\u001b[39m\u001b[38;5;124m\"\u001b[39m)\n\u001b[1;32m   2105\u001b[0m missing_keys: List[\u001b[38;5;28mstr\u001b[39m] \u001b[38;5;241m=\u001b[39m []\n\u001b[1;32m   2106\u001b[0m unexpected_keys: List[\u001b[38;5;28mstr\u001b[39m] \u001b[38;5;241m=\u001b[39m []\n",
      "\u001b[0;31mTypeError\u001b[0m: Expected state_dict to be dict-like, got <class '__main__.My_BiLSTM'>."
     ]
    }
   ],
   "source": [
    "model_path = 'my_bilstm_model.pth'\n",
    "saved_model.load_state_dict(torch.load(model_path))"
   ]
  },
  {
   "cell_type": "code",
   "execution_count": null,
   "metadata": {},
   "outputs": [],
   "source": []
  }
 ],
 "metadata": {
  "kernelspec": {
   "display_name": "Python 3",
   "language": "python",
   "name": "python3"
  },
  "language_info": {
   "codemirror_mode": {
    "name": "ipython",
    "version": 3
   },
   "file_extension": ".py",
   "mimetype": "text/x-python",
   "name": "python",
   "nbconvert_exporter": "python",
   "pygments_lexer": "ipython3",
   "version": "3.11.9"
  }
 },
 "nbformat": 4,
 "nbformat_minor": 2
}
